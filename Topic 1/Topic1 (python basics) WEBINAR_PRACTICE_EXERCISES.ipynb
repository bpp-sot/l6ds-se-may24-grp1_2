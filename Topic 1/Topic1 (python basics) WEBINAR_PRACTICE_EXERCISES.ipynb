{
  "cells": [
    {
      "cell_type": "markdown",
      "source": [
        "# **TOPIC 1 (PYTHON BASICS) - WEBINAR PRACTICE EXERCISES**"
      ],
      "metadata": {
        "id": "d_4Qg10F7b0a"
      }
    },
    {
      "cell_type": "markdown",
      "metadata": {
        "id": "2uuXYNUw7MFZ"
      },
      "source": [
        "# Task 1\n",
        "\n",
        "Create variables to store customer information including name, account number, and contact details. Then, print out a summary of the customer information.\n",
        "\n",
        "*As a hint, the expected output is shown below!*"
      ]
    },
    {
      "cell_type": "markdown",
      "metadata": {
        "id": "Xr5-hYf37MFb"
      },
      "source": [
        "## 1. Creat variables for customer information"
      ]
    },
    {
      "cell_type": "code",
      "execution_count": null,
      "metadata": {
        "id": "3oFyuDbN7MFc"
      },
      "outputs": [],
      "source": []
    },
    {
      "cell_type": "markdown",
      "metadata": {
        "id": "ZETdHX0D7MFc"
      },
      "source": [
        "## 2. Print a summary of the customer information"
      ]
    },
    {
      "cell_type": "code",
      "execution_count": null,
      "metadata": {
        "id": "hwj6a0CE7MFd"
      },
      "outputs": [],
      "source": []
    },
    {
      "cell_type": "markdown",
      "metadata": {
        "id": "RT51tS5O7MFd"
      },
      "source": [
        "## Expected output\n",
        "\n",
        "```\n",
        "Customer Summary:\n",
        "Name: John Doe\n",
        "Account Number: AC1234567\n",
        "Email: john.doe@example.com\n",
        "Phone: +1 (555) 123-4567\n",
        "Balance: $1000.50\n",
        "```\n"
      ]
    },
    {
      "cell_type": "markdown",
      "metadata": {
        "id": "7Y4ioQhW7MFd"
      },
      "source": [
        "# Additional Challenge\n",
        "\n",
        "Create a dictionary to store the customer information instead of individual variables. Then, print the summary using the dictionary."
      ]
    },
    {
      "cell_type": "code",
      "execution_count": null,
      "metadata": {
        "id": "HHpIWrQt7MFd"
      },
      "outputs": [],
      "source": []
    },
    {
      "cell_type": "markdown",
      "source": [
        "---"
      ],
      "metadata": {
        "id": "fLDU0dM070pS"
      }
    },
    {
      "cell_type": "markdown",
      "source": [
        "# Task 2"
      ],
      "metadata": {
        "id": "WH8gWjs38QDz"
      }
    },
    {
      "cell_type": "markdown",
      "source": [
        "Create a list to store transaction amounts for the past week. Calculate the total amount and the average transaction amount.\n",
        "\n",
        "*Again, there is a hint about the expected output at the bottom!*"
      ],
      "metadata": {
        "id": "NUpmgYbd8T4a"
      }
    },
    {
      "cell_type": "markdown",
      "source": [
        "## 1. Create a list of transaction amounts"
      ],
      "metadata": {
        "id": "k_Jh5aeO8Xgb"
      }
    },
    {
      "cell_type": "code",
      "source": [],
      "metadata": {
        "id": "Wq38MDgF8aJB"
      },
      "execution_count": null,
      "outputs": []
    },
    {
      "cell_type": "markdown",
      "source": [
        "## 2. Calculate the total amount"
      ],
      "metadata": {
        "id": "V5mdtvDN8c4U"
      }
    },
    {
      "cell_type": "code",
      "source": [],
      "metadata": {
        "id": "9vgyUXOm8dpC"
      },
      "execution_count": null,
      "outputs": []
    },
    {
      "cell_type": "markdown",
      "source": [
        "## 3. Calculate the average transaction amount"
      ],
      "metadata": {
        "id": "eThPLFcu8eZr"
      }
    },
    {
      "cell_type": "code",
      "source": [],
      "metadata": {
        "id": "MQeejOqm8lwK"
      },
      "execution_count": null,
      "outputs": []
    },
    {
      "cell_type": "markdown",
      "source": [
        "## 4. Print the results"
      ],
      "metadata": {
        "id": "DLQBK_Qg8heS"
      }
    },
    {
      "cell_type": "code",
      "source": [],
      "metadata": {
        "id": "MpNr4sw88k2K"
      },
      "execution_count": null,
      "outputs": []
    },
    {
      "cell_type": "markdown",
      "source": [
        "## Expected output\n",
        "\n",
        "```\n",
        "Transaction Data:\n",
        "Transactions: [120.5, 75.0, 32.45, 81.2, 200.0, 140.75, 15.3]\n",
        "Total Amount: $665.20\n",
        "Average Transaction Amount: $95.03\n",
        "```\n"
      ],
      "metadata": {
        "id": "P8ncObY28oPq"
      }
    }
  ],
  "metadata": {
    "kernelspec": {
      "display_name": "Python 3",
      "language": "python",
      "name": "python3"
    },
    "language_info": {
      "name": "python",
      "version": "3.12.6"
    },
    "colab": {
      "provenance": []
    }
  },
  "nbformat": 4,
  "nbformat_minor": 0
}