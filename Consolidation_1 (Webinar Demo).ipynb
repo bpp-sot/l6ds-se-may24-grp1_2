{
  "nbformat": 4,
  "nbformat_minor": 0,
  "metadata": {
    "colab": {
      "provenance": []
    },
    "kernelspec": {
      "name": "python3",
      "display_name": "Python 3"
    },
    "language_info": {
      "name": "python"
    }
  },
  "cells": [
    {
      "cell_type": "markdown",
      "source": [
        "# **CONSOLIDATION SESSION 1**"
      ],
      "metadata": {
        "id": "6ltvKESx69X7"
      }
    },
    {
      "cell_type": "markdown",
      "source": [
        "This notebook describes some useful techniques from a software development perspective that allow you to improve your code."
      ],
      "metadata": {
        "id": "47EATIgu7Avj"
      }
    },
    {
      "cell_type": "markdown",
      "source": [
        "Some important 'good practices' when writing code:\n",
        "\n",
        "\n",
        "1.   Code RE-USE / DRY (**Don't Repeat Yourself**)!  Never copy and paste code.  Aim to write code once, and RE-USE it.\n",
        "    *    To use code more than once in the same place in your notebook, use a LOOP.\n",
        "    *    To use code in multiple places in your notebook, use FUNCTIONS.\n",
        "    *    LIBRARIES are saved python files containing pre-written code.  Aim to use libraries (e.g. Pandas) wherever possible, savin you from having to re-write yourself.\n",
        "\n",
        "2.  MODULARITY - keep similar code together, and separate areas of different code functionality by using functions and classes.\n",
        "3.  READABILITY - Esnure code is easy for you and others to read.  Name all components of your code appropriately, laying it out logically and in a sensible order.  Use comments and docstrings wisely to explain the code.\n",
        "\n"
      ],
      "metadata": {
        "id": "V5vyjwNB7tvC"
      }
    },
    {
      "cell_type": "markdown",
      "source": [
        "# **FUNCTIONS**"
      ],
      "metadata": {
        "id": "vJ46UXC7AqGN"
      }
    },
    {
      "cell_type": "markdown",
      "source": [
        "A reminder: we encountered FUNCTIONS in week 2, but we have also been using them since day 1.\n",
        "\n",
        "FUNCTIONS are when we save a block of code so that we can run it later.\n",
        "Functions have a unique name, can accept PARAMETERS (data that we pass to them), and can also RETURN values to where we called them."
      ],
      "metadata": {
        "id": "AlSi7fLnAsFc"
      }
    },
    {
      "cell_type": "code",
      "source": [
        "# Example simple function\n",
        "\n",
        "def addNumbers(a,b):\n",
        "  sum = a + b\n",
        "  print(f'{a} + {b} = ', sum)"
      ],
      "metadata": {
        "id": "KtZyFOWcBV99"
      },
      "execution_count": null,
      "outputs": []
    },
    {
      "cell_type": "code",
      "source": [
        "# CALL our simple function\n",
        "addNumbers(7,5)"
      ],
      "metadata": {
        "id": "xE83D79PBkST"
      },
      "execution_count": null,
      "outputs": []
    },
    {
      "cell_type": "code",
      "source": [
        "# Example function that RETURNS a value (and has DOCSTRING documentation)\n",
        "\n",
        "def addNumbers_return(a,b):\n",
        "  '''\n",
        "    Function to return the sum of two numbers.\n",
        "\n",
        "    arguments:\n",
        "    a: the first number\n",
        "    b: the second number\n",
        "  '''\n",
        "  return a + b"
      ],
      "metadata": {
        "id": "EUrZPyvMBynk"
      },
      "execution_count": null,
      "outputs": []
    },
    {
      "cell_type": "code",
      "source": [
        "addNumbers_return(5,3)"
      ],
      "metadata": {
        "id": "tbifqEzzCW60"
      },
      "execution_count": null,
      "outputs": []
    },
    {
      "cell_type": "markdown",
      "source": [
        "## Example using our Titanic case study!"
      ],
      "metadata": {
        "id": "H-t-2SKzCbHT"
      }
    },
    {
      "cell_type": "markdown",
      "source": [
        "In our last session(s), we imported the titanic dataset, and then did some exploratory data analysis (EDA) to look at things like missing data.\n",
        "\n",
        "Wouldn't it be good to write some code ONCE that we could re-use anytime we need to do similar investigation of a dataset...?"
      ],
      "metadata": {
        "id": "2p3wmJJaDEyb"
      }
    },
    {
      "cell_type": "code",
      "source": [
        "# import all needed libraries!\n",
        "import pandas as pd\n",
        "import numpy as np\n",
        "import matplotlib.pyplot as plt\n",
        "import seaborn as sns\n",
        "import plotly.express as px\n",
        "import plotly.graph_objects as go\n",
        "from plotly.subplots import make_subplots\n"
      ],
      "metadata": {
        "id": "skDsJSppDySy"
      },
      "execution_count": null,
      "outputs": []
    },
    {
      "cell_type": "code",
      "source": [
        "# define my useful function\n",
        "\n",
        "def exploreDataset(data):\n",
        "  '''\n",
        "    Generic function to provide summary information\n",
        "    about a dataframe, and visually display where missing values occur.\n",
        "\n",
        "    arguments:\n",
        "      data: a pandas dataframe\n",
        "  '''\n",
        "  print(titanic.head())\n",
        "  print(\"\\nDataset Info:\")\n",
        "  data.info()\n",
        "  plt.figure(figsize=(12, 8))\n",
        "  sns.heatmap(data.isnull(), cbar=False, yticklabels=False, cmap='viridis')\n",
        "  plt.title('Missing Values in Dataset')\n",
        "  plt.show()"
      ],
      "metadata": {
        "id": "vjCqBql-DW7z"
      },
      "execution_count": null,
      "outputs": []
    },
    {
      "cell_type": "code",
      "source": [
        "# test/use my function\n",
        "# Load the Titanic dataset\n",
        "titanic = pd.read_csv('titanic.csv')\n",
        "\n",
        "exploreDataset(titanic) # you can call the function as many times as you like, passing in whatever dataset you want to explore!"
      ],
      "metadata": {
        "id": "Pew6e8WhEBKZ"
      },
      "execution_count": null,
      "outputs": []
    },
    {
      "cell_type": "markdown",
      "source": [
        "---"
      ],
      "metadata": {
        "id": "Hy8AFg1yEaoR"
      }
    },
    {
      "cell_type": "markdown",
      "source": [
        "OBJECT ORIENTED PROGRAMMING"
      ],
      "metadata": {
        "id": "QIy-0cKEEbPp"
      }
    },
    {
      "cell_type": "markdown",
      "source": [
        "Object Oriented Programming (OOP) is where we package up related DATA and FUNCTIONS that are related to a particular OBJECT.\n",
        "\n",
        "*i.e. If you have a DOG, you might store various bits of data about the Dog (such as name, age, colour).  There are also funnctions (behaviour) that a Dog might do.  To write efficient, modular code, we put all the code for these things togethre in one place - a CLASS.  A CLASS is basically a tempalte or a blueprint for making Dog objects.*"
      ],
      "metadata": {
        "id": "Mjv41HRNEeRR"
      }
    },
    {
      "cell_type": "code",
      "source": [
        "# Let's use OOP to make an in-code OBJECT representing one of our Titanic passengers:\n",
        "\n",
        "class Passenger:\n",
        "    def __init__(self, name, pclass, survived, sex, age):\n",
        "        self.name = name  # Attributes (variables)\n",
        "        self.pclass = pclass\n",
        "        self.survived = survived\n",
        "        self.sex = sex\n",
        "        self.age = age\n",
        "\n",
        "    def printPassengerDetails(self):  # Method\n",
        "        print(f\"Passenger Name: {self.name} \")\n",
        "        print(f\"Passenger Class: {self.pclass} \")\n",
        "        print(f\"Passenger Sex: {self.sex} \")\n",
        "        print(f\"Passenger Age: {self.age} \")\n",
        "        print(f\"Did they survived?: {self.survived} \")"
      ],
      "metadata": {
        "id": "0_u3z3WvFdBZ"
      },
      "execution_count": null,
      "outputs": []
    },
    {
      "cell_type": "code",
      "source": [
        "# make passenger objects and use them\n",
        "p1 = Passenger('Rose', 1, 1, 'Female', 25)\n",
        "p2 = Passenger('Jack',3,0,'Male,',25)\n",
        "\n",
        "p1.printPassengerDetails()\n",
        "p2.printPassengerDetails()"
      ],
      "metadata": {
        "id": "X6OoRTfCGRgI"
      },
      "execution_count": null,
      "outputs": []
    }
  ]
}